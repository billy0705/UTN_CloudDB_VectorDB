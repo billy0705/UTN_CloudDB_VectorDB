{
 "cells": [
  {
   "cell_type": "code",
   "execution_count": 5,
   "metadata": {},
   "outputs": [
    {
     "name": "stdout",
     "output_type": "stream",
     "text": [
      "done\n"
     ]
    }
   ],
   "source": [
    "import numpy as np \n",
    "import pandas as pd\n",
    "\n",
    "num_vectors = 10000\n",
    "num_dimensions = 1000\n",
    "random_vectors = np.random.rand(num_vectors, num_dimensions)\n",
    "\n",
    "num_clusters = 3\n",
    "cluster_cen= np.random.rand(num_clusters, num_dimensions)\n",
    "\n",
    "# assign each vector to a cluster and create an arraty for the clustered vectors\n",
    "assign_cluster = np.random.choice(num_clusters, num_vectors)\n",
    "clustered_vectors= np.zeros((num_vectors,num_dimensions))\n",
    "\n",
    "# assign vectors to clusters\n",
    "for i in range(num_clusters):\n",
    "    cluster_index = np.where(assign_cluster == i)[0]\n",
    "    # assign these vectors to cluster centers with some added noice\n",
    "    clustered_vectors[cluster_index] = cluster_cen[i] + np.random.randn(len(cluster_index), num_dimensions) * 0.1\n",
    "\n",
    "df = pd.DataFrame(clustered_vectors)\n",
    "\n",
    "df.to_csv('./data/clustered_vectors.csv', index=False)"
   ]
  }
 ],
 "metadata": {
  "kernelspec": {
   "display_name": "Python 3",
   "language": "python",
   "name": "python3"
  },
  "language_info": {
   "codemirror_mode": {
    "name": "ipython",
    "version": 3
   },
   "file_extension": ".py",
   "mimetype": "text/x-python",
   "name": "python",
   "nbconvert_exporter": "python",
   "pygments_lexer": "ipython3",
   "version": "3.10.7"
  }
 },
 "nbformat": 4,
 "nbformat_minor": 2
}
