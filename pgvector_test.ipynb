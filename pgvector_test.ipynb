{
 "cells": [
  {
   "cell_type": "code",
   "execution_count": 12,
   "metadata": {},
   "outputs": [
    {
     "name": "stdout",
     "output_type": "stream",
     "text": [
      "[(array([1., 2., 3.], dtype=float32),)]\n"
     ]
    }
   ],
   "source": [
    "import psycopg\n",
    "import numpy as np\n",
    "from pgvector.psycopg import register_vector\n",
    "\n",
    "#establishing the connection\n",
    "with psycopg.connect(\"dbname=postgres user=billyslim\") as conn:\n",
    "    register_vector(conn)\n",
    "    # conn.execute('CREATE EXTENSION IF NOT EXISTS vector')\n",
    "    # conn.execute('CREATE TABLE vector_test (id bigserial PRIMARY KEY, embedding vector(3))')\n",
    "    embedding = np.array([1, 2, 3])\n",
    "    # conn.execute('INSERT INTO vector_test (embedding) VALUES (%s)', (embedding,))\n",
    "    result = conn.execute('SELECT embedding FROM vector_test ORDER BY embedding <-> %s LIMIT 5', (embedding,)).fetchall()\n",
    "    print(result)"
   ]
  },
  {
   "cell_type": "code",
   "execution_count": null,
   "metadata": {},
   "outputs": [],
   "source": []
  }
 ],
 "metadata": {
  "kernelspec": {
   "display_name": "Python 3",
   "language": "python",
   "name": "python3"
  },
  "language_info": {
   "codemirror_mode": {
    "name": "ipython",
    "version": 3
   },
   "file_extension": ".py",
   "mimetype": "text/x-python",
   "name": "python",
   "nbconvert_exporter": "python",
   "pygments_lexer": "ipython3",
   "version": "3.11.6"
  }
 },
 "nbformat": 4,
 "nbformat_minor": 2
}
