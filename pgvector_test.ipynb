{
 "cells": [
  {
   "cell_type": "code",
   "execution_count": null,
   "metadata": {},
   "outputs": [],
   "source": [
    "import psycopg\n",
    "import numpy as np\n",
    "from pgvector.psycopg import register_vector\n",
    "\n",
    "#establishing the connection\n",
    "with psycopg.connect(\"dbname=postgres user=billyslim password=''\") as conn:\n",
    "    register_vector(conn)\n",
    "    # conn.execute('CREATE EXTENSION IF NOT EXISTS vector')\n",
    "    # conn.execute('CREATE TABLE vector_test (id bigserial PRIMARY KEY, embedding vector(3))')\n",
    "    conn.execute('DROP TABLE vector_test')\n",
    "    # embedding = np.array([1, 2, 3])\n",
    "    # conn.execute('INSERT INTO vector_test (embedding) VALUES (%s)', (embedding,))\n",
    "    # result = conn.execute('SELECT embedding FROM vector_test ORDER BY embedding <-> %s LIMIT 5', (embedding,)).fetchall()\n",
    "    # SELECT pg_size_pretty( pg_total_relation_size('vector_test')); size of table\n",
    "    # print(result)"
   ]
  },
  {
   "cell_type": "code",
   "execution_count": 1,
   "metadata": {},
   "outputs": [
    {
     "name": "stdout",
     "output_type": "stream",
     "text": [
      "[('40 MB',)]\n",
      "40 MB\n"
     ]
    }
   ],
   "source": [
    "from pgvector_interface import PGvectorInterface\n",
    "import numpy as np\n",
    "\n",
    "csv_path = \"./data/clustered_vectors.csv\"\n",
    "table_name = 'vector_test'\n",
    "\n",
    "pgvectordb = PGvectorInterface('postgres', 'billyslim')\n",
    "# pgvectordb.create_table(table_name, 10000)\n",
    "# pgvectordb.drop_table('vector_test')\n",
    "# r = pgvectordb.get_size_of_table(table_name)\n",
    "# embedding = np.array([1, 2, 3])\n",
    "# pgvectordb.insert_single_vector(table_name, embedding)\n",
    "# pgvectordb.insert_vector_from_csv(table_name, csv_path)\n",
    "r = pgvectordb.get_size_of_table(table_name)\n",
    "# r=pgvectordb.get_rows_cnt(table_name)\n",
    "pgvectordb.disconnect_server()\n",
    "print(r)"
   ]
  },
  {
   "cell_type": "code",
   "execution_count": null,
   "metadata": {},
   "outputs": [],
   "source": [
    "# Milvus\n",
    "# pip install pymilvus milvus\n",
    "# https://github.com/ytang07/milvus-projects/blob/main/text/embedding_comparison.ipynb\n",
    "# https://milvus.io/docs/manage_databases.md\n"
   ]
  }
 ],
 "metadata": {
  "kernelspec": {
   "display_name": "Python 3",
   "language": "python",
   "name": "python3"
  },
  "language_info": {
   "codemirror_mode": {
    "name": "ipython",
    "version": 3
   },
   "file_extension": ".py",
   "mimetype": "text/x-python",
   "name": "python",
   "nbconvert_exporter": "python",
   "pygments_lexer": "ipython3",
   "version": "3.11.6"
  }
 },
 "nbformat": 4,
 "nbformat_minor": 2
}
