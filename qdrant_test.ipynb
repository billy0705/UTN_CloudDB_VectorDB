{
 "cells": [
  {
   "cell_type": "code",
   "execution_count": 1,
   "metadata": {},
   "outputs": [
    {
     "name": "stderr",
     "output_type": "stream",
     "text": [
      "C:\\Users\\dhimi\\AppData\\Local\\Temp\\ipykernel_35628\\2033497685.py:11: DeprecationWarning: `recreate_collection` method is deprecated and will be removed in the future. Use `collection_exists` to check collection existence and `create_collection` instead.\n",
      "  qdrant.recreate_collection(\n"
     ]
    },
    {
     "data": {
      "text/plain": [
       "UpdateResult(operation_id=0, status=<UpdateStatus.COMPLETED: 'completed'>)"
      ]
     },
     "execution_count": 1,
     "metadata": {},
     "output_type": "execute_result"
    }
   ],
   "source": [
    "import numpy as np\n",
    "from qdrant_client import QdrantClient\n",
    "from qdrant_client.http.models import PointStruct\n",
    "import pandas as pd\n",
    "\n",
    "clustered_vectors = pd.read_csv('./data/clustered_vectors.csv').values\n",
    "\n",
    "qdrant = QdrantClient(\":memory:\")\n",
    "collection_name = \"vector_collection\"\n",
    "\n",
    "qdrant.recreate_collection(\n",
    "    collection_name=collection_name,\n",
    "    vectors_config={\"size\": clustered_vectors.shape[1], \"distance\": \"Cosine\"}\n",
    ")\n",
    "\n",
    "# Upload the vectors\n",
    "points = [\n",
    "    PointStruct(id=i, vector=vector.tolist())\n",
    "    for i, vector in enumerate(clustered_vectors)\n",
    "]\n",
    "\n",
    "qdrant.upsert(collection_name=collection_name, points=points)\n",
    "\n",
    "# source https://python-client.qdrant.tech/"
   ]
  },
  {
   "cell_type": "code",
   "execution_count": 2,
   "metadata": {},
   "outputs": [
    {
     "name": "stdout",
     "output_type": "stream",
     "text": [
      "id=0 version=0 score=0.9999999988241883 payload={} vector=None shard_key=None order_value=None\n",
      "id=4791 version=0 score=0.9733456684059761 payload={} vector=None shard_key=None order_value=None\n",
      "id=112 version=0 score=0.9731442626214278 payload={} vector=None shard_key=None order_value=None\n",
      "id=596 version=0 score=0.9729512723259301 payload={} vector=None shard_key=None order_value=None\n",
      "id=4477 version=0 score=0.97288293892145 payload={} vector=None shard_key=None order_value=None\n",
      "id=6595 version=0 score=0.9728680538292809 payload={} vector=None shard_key=None order_value=None\n",
      "id=4060 version=0 score=0.9728547648246987 payload={} vector=None shard_key=None order_value=None\n",
      "id=9043 version=0 score=0.9728345841123753 payload={} vector=None shard_key=None order_value=None\n",
      "id=1091 version=0 score=0.9728207069369069 payload={} vector=None shard_key=None order_value=None\n",
      "id=2757 version=0 score=0.9727718166003076 payload={} vector=None shard_key=None order_value=None\n"
     ]
    }
   ],
   "source": [
    "# doing a search query test\n",
    "query_vector = clustered_vectors[0].tolist()\n",
    "\n",
    "search_result = qdrant.search(\n",
    "    collection_name=collection_name,\n",
    "    query_vector=query_vector,\n",
    "    limit=10 \n",
    ")\n",
    "\n",
    "# Print the search results\n",
    "for result in search_result:\n",
    "    print(result)"
   ]
  }
 ],
 "metadata": {
  "kernelspec": {
   "display_name": "Python 3",
   "language": "python",
   "name": "python3"
  },
  "language_info": {
   "codemirror_mode": {
    "name": "ipython",
    "version": 3
   },
   "file_extension": ".py",
   "mimetype": "text/x-python",
   "name": "python",
   "nbconvert_exporter": "python",
   "pygments_lexer": "ipython3",
   "version": "3.10.7"
  }
 },
 "nbformat": 4,
 "nbformat_minor": 2
}
