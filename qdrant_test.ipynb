{
 "cells": [
  {
   "cell_type": "code",
   "execution_count": 1,
   "metadata": {},
   "outputs": [
    {
     "name": "stderr",
     "output_type": "stream",
     "text": [
      "C:\\Users\\dhimi\\AppData\\Local\\Temp\\ipykernel_35628\\2033497685.py:11: DeprecationWarning: `recreate_collection` method is deprecated and will be removed in the future. Use `collection_exists` to check collection existence and `create_collection` instead.\n",
      "  qdrant.recreate_collection(\n"
     ]
    },
    {
     "data": {
      "text/plain": [
       "UpdateResult(operation_id=0, status=<UpdateStatus.COMPLETED: 'completed'>)"
      ]
     },
     "execution_count": 1,
     "metadata": {},
     "output_type": "execute_result"
    }
   ],
   "source": [
    "import numpy as np\n",
    "from qdrant_client import QdrantClient\n",
    "from qdrant_client.http.models import PointStruct\n",
    "import pandas as pd\n",
    "\n",
    "clustered_vectors = pd.read_csv('./data/clustered_vectors.csv').values\n",
    "\n",
    "qdrant = QdrantClient(\":memory:\")\n",
    "collection_name = \"vector_collection\"\n",
    "\n",
    "qdrant.recreate_collection(\n",
    "    collection_name=collection_name,\n",
    "    vectors_config={\"size\": clustered_vectors.shape[1], \"distance\": \"Cosine\"}\n",
    ")\n",
    "\n",
    "# Upload the vectors\n",
    "points = [\n",
    "    PointStruct(id=i, vector=vector.tolist())\n",
    "    for i, vector in enumerate(clustered_vectors)\n",
    "]\n",
    "\n",
    "qdrant.upsert(collection_name=collection_name, points=points)\n",
    "\n",
    "# source https://python-client.qdrant.tech/"
   ]
  },
  {
   "cell_type": "code",
   "execution_count": 2,
   "metadata": {},
   "outputs": [
    {
     "name": "stdout",
     "output_type": "stream",
     "text": [
      "id=0 version=0 score=0.9999999988241883 payload={} vector=None shard_key=None order_value=None\n",
      "id=4791 version=0 score=0.9733456684059761 payload={} vector=None shard_key=None order_value=None\n",
      "id=112 version=0 score=0.9731442626214278 payload={} vector=None shard_key=None order_value=None\n",
      "id=596 version=0 score=0.9729512723259301 payload={} vector=None shard_key=None order_value=None\n",
      "id=4477 version=0 score=0.97288293892145 payload={} vector=None shard_key=None order_value=None\n",
      "id=6595 version=0 score=0.9728680538292809 payload={} vector=None shard_key=None order_value=None\n",
      "id=4060 version=0 score=0.9728547648246987 payload={} vector=None shard_key=None order_value=None\n",
      "id=9043 version=0 score=0.9728345841123753 payload={} vector=None shard_key=None order_value=None\n",
      "id=1091 version=0 score=0.9728207069369069 payload={} vector=None shard_key=None order_value=None\n",
      "id=2757 version=0 score=0.9727718166003076 payload={} vector=None shard_key=None order_value=None\n"
     ]
    }
   ],
   "source": [
    "# doing a search query test\n",
    "query_vector = clustered_vectors[0].tolist()\n",
    "\n",
    "search_result = qdrant.search(\n",
    "    collection_name=collection_name,\n",
    "    query_vector=query_vector,\n",
    "    limit=10 \n",
    ")\n",
    "\n",
    "# Print the search results\n",
    "for result in search_result:\n",
    "    print(result)"
   ]
  },
  {
   "cell_type": "code",
   "execution_count": 3,
   "metadata": {},
   "outputs": [
    {
     "name": "stdout",
     "output_type": "stream",
     "text": [
      "Original vector dataset size: 193002578 bytes\n"
     ]
    }
   ],
   "source": [
    "import os\n",
    "\n",
    "csv_file_path = './data/clustered_vectors.csv'\n",
    "org_size = os.path.getsize(csv_file_path)\n",
    "\n",
    "print(f\"Original vector dataset size: {org_size} bytes\")\n"
   ]
  },
  {
   "cell_type": "code",
   "execution_count": 5,
   "metadata": {},
   "outputs": [
    {
     "name": "stderr",
     "output_type": "stream",
     "text": [
      "C:\\Users\\dhimi\\AppData\\Local\\Temp\\ipykernel_35628\\1281254356.py:13: DeprecationWarning: `recreate_collection` method is deprecated and will be removed in the future. Use `collection_exists` to check collection existence and `create_collection` instead.\n",
      "  qdrant.recreate_collection(\n"
     ]
    },
    {
     "name": "stdout",
     "output_type": "stream",
     "text": [
      "Estimated size of data in Qdrant: 40000000 bytes\n"
     ]
    }
   ],
   "source": [
    "import numpy as np\n",
    "from qdrant_client import QdrantClient\n",
    "from qdrant_client.http.models import PointStruct\n",
    "import pandas as pd\n",
    "\n",
    "# Init qdrant client like the test before\n",
    "\n",
    "clustered_vectors = pd.read_csv('./data/clustered_vectors.csv').values\n",
    "\n",
    "qdrant = QdrantClient(\":memory:\")\n",
    "collection_name = \"vector_collection\"\n",
    "\n",
    "qdrant.recreate_collection(\n",
    "    collection_name=collection_name,\n",
    "    vectors_config={\"size\": clustered_vectors.shape[1], \"distance\": \"Cosine\"}\n",
    ")\n",
    "\n",
    "# Upload the vectors\n",
    "points = [\n",
    "    PointStruct(id=i, vector=vector.tolist())\n",
    "    for i, vector in enumerate(clustered_vectors)\n",
    "]\n",
    "\n",
    "qdrant.upsert(collection_name=collection_name, points=points)\n",
    "#*******************************************************************************\n",
    "# do an einitial estimation of the size per vector\n",
    "size_per_vector = clustered_vectors.shape[1] * 4  # Each float is 4 bytes\n",
    "\n",
    "num_vectors = clustered_vectors.shape[0]\n",
    "\n",
    "# an stimation of the total storage size\n",
    "estimated_qdrant_size = size_per_vector * num_vectors\n",
    "\n",
    "print(f\"Estimated size of data in Qdrant: {estimated_qdrant_size} bytes\")"
   ]
  },
  {
   "cell_type": "code",
   "execution_count": 7,
   "metadata": {},
   "outputs": [
    {
     "name": "stdout",
     "output_type": "stream",
     "text": [
      "Original vector dataset size: 193002578 bytes\n",
      "Estimated size of data in Qdrant: 40000000 bytes\n",
      "Compression ratio (original/Qdrant): 4.83\n"
     ]
    }
   ],
   "source": [
    "org_size = os.path.getsize(csv_file_path)\n",
    "\n",
    "print(f\"Original size: {org_size} bytes\")\n",
    "print(f\"Estimated size  in Qdrant: {estimated_qdrant_size} bytes\")\n",
    "\n",
    "compression_ratio = org_size / estimated_qdrant_size\n",
    "print(f\"Compression ratio (original/Qdrant): {compression_ratio:.2f}\")"
   ]
  },
  {
   "cell_type": "code",
   "execution_count": 9,
   "metadata": {},
   "outputs": [
    {
     "name": "stderr",
     "output_type": "stream",
     "text": [
      "C:\\Users\\dhimi\\AppData\\Local\\Temp\\ipykernel_35628\\1804820610.py:17: DeprecationWarning: `recreate_collection` method is deprecated and will be removed in the future. Use `collection_exists` to check collection existence and `create_collection` instead.\n",
      "  qdrant.recreate_collection(\n"
     ]
    },
    {
     "name": "stdout",
     "output_type": "stream",
     "text": [
      "Size of data in Qdrant: 95928824 bytes\n",
      "Original vector dataset size: 193002578 bytes\n",
      "Compression ratio (original/Qdrant): 2.01\n"
     ]
    }
   ],
   "source": [
    "import numpy as np\n",
    "import pandas as pd\n",
    "import os\n",
    "from qdrant_client import QdrantClient\n",
    "from qdrant_client.models import VectorParams, Distance, PointStruct\n",
    "\n",
    "clustered_vectors = pd.read_csv('./data/clustered_vectors.csv').values\n",
    "qdrant = QdrantClient(path=\"./qdrant_data\")\n",
    "collection_name = \"vector_collection\"\n",
    "qdrant.recreate_collection(\n",
    "   collection_name=collection_name,\n",
    "   vectors_config=VectorParams(size=clustered_vectors.shape[1], distance=Distance.COSINE),\n",
    ")\n",
    "points = [\n",
    "    PointStruct(id=i, vector=vector.tolist())\n",
    "    for i, vector in enumerate(clustered_vectors)\n",
    "]\n",
    "\n",
    "qdrant.upsert(collection_name=collection_name, points=points)\n",
    "# *****************************************************\n",
    "\n",
    "def get_directory_size(directory):\n",
    "    total_size = 0\n",
    "    for dirpath, dirnames, filenames in os.walk(directory):\n",
    "        for f in filenames:\n",
    "            fp = os.path.join(dirpath, f)\n",
    "            total_size += os.path.getsize(fp)\n",
    "    return total_size\n",
    "\n",
    "# Getting thr qdrant data directory size\n",
    "qdrant_data_size = get_directory_size('./qdrant_data')\n",
    "print(f\"Size of data in Qdrant: {qdrant_data_size} bytes\")\n",
    "\n",
    "original_size = os.path.getsize('./data/clustered_vectors.csv')\n",
    "print(f\"Original vector dataset size: {original_size} bytes\")\n",
    "\n",
    "# Calculate the compression ratio\n",
    "compression_ratio = original_size / qdrant_data_size\n",
    "print(f\"Compression ratio (original/Qdrant): {compression_ratio:.2f}\")\n",
    "\n",
    "#https://www.slingacademy.com/article/python-calculating-total-size-of-a-folder-and-its-contents/\n"
   ]
  }
 ],
 "metadata": {
  "kernelspec": {
   "display_name": "Python 3",
   "language": "python",
   "name": "python3"
  },
  "language_info": {
   "codemirror_mode": {
    "name": "ipython",
    "version": 3
   },
   "file_extension": ".py",
   "mimetype": "text/x-python",
   "name": "python",
   "nbconvert_exporter": "python",
   "pygments_lexer": "ipython3",
   "version": "3.10.7"
  }
 },
 "nbformat": 4,
 "nbformat_minor": 2
}
